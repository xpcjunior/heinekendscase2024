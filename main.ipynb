{
 "cells": [
  {
   "cell_type": "markdown",
   "metadata": {},
   "source": [
    "# Heineken - Data Science Use Case 2024\n",
    "## 👤: Paulo Cezar Cabral Junior"
   ]
  },
  {
   "cell_type": "code",
   "execution_count": 1,
   "metadata": {},
   "outputs": [],
   "source": [
    "import pandas as pd\n",
    "import numpy as np\n",
    "from sklearn.model_selection import train_test_split\n",
    "from sklearn.ensemble import RandomForestRegressor\n",
    "from sklearn.metrics import mean_squared_error, r2_score\n",
    "from sklearn.feature_selection import RFE, RFECV\n",
    "from sklearn.preprocessing import MinMaxScaler\n",
    "\n",
    "%matplotlib inline\n",
    "import matplotlib.pyplot as plt\n",
    "import seaborn as sns"
   ]
  },
  {
   "cell_type": "markdown",
   "metadata": {},
   "source": [
    "## 🔍 Data exploration"
   ]
  },
  {
   "cell_type": "markdown",
   "metadata": {},
   "source": [
    "First Look"
   ]
  },
  {
   "cell_type": "code",
   "execution_count": 2,
   "metadata": {},
   "outputs": [
    {
     "data": {
      "text/html": [
       "<div>\n",
       "<style scoped>\n",
       "    .dataframe tbody tr th:only-of-type {\n",
       "        vertical-align: middle;\n",
       "    }\n",
       "\n",
       "    .dataframe tbody tr th {\n",
       "        vertical-align: top;\n",
       "    }\n",
       "\n",
       "    .dataframe thead th {\n",
       "        text-align: right;\n",
       "    }\n",
       "</style>\n",
       "<table border=\"1\" class=\"dataframe\">\n",
       "  <thead>\n",
       "    <tr style=\"text-align: right;\">\n",
       "      <th></th>\n",
       "      <th>Unnamed: 0</th>\n",
       "      <th>Job ID</th>\n",
       "      <th>Date/Time</th>\n",
       "      <th>Roast amount (kg)</th>\n",
       "      <th>1st malt amount (kg)</th>\n",
       "      <th>2nd malt amount (kg)</th>\n",
       "      <th>MT - Temperature</th>\n",
       "      <th>MT - Time</th>\n",
       "      <th>WK - Temperature</th>\n",
       "      <th>WK - Steam</th>\n",
       "      <th>...</th>\n",
       "      <th>pH</th>\n",
       "      <th>Extract</th>\n",
       "      <th>Color</th>\n",
       "      <th>WOC - Time</th>\n",
       "      <th>WHP Transfer - Time</th>\n",
       "      <th>WHP Rest - Time</th>\n",
       "      <th>Roast color</th>\n",
       "      <th>1st malt color</th>\n",
       "      <th>2nd malt color</th>\n",
       "      <th>Product</th>\n",
       "    </tr>\n",
       "  </thead>\n",
       "  <tbody>\n",
       "    <tr>\n",
       "      <th>0</th>\n",
       "      <td>0</td>\n",
       "      <td>2449959642</td>\n",
       "      <td>10/22/2020 2:50</td>\n",
       "      <td>64.499934</td>\n",
       "      <td>16051.99658</td>\n",
       "      <td>3999.860052</td>\n",
       "      <td>67.312984</td>\n",
       "      <td>6546.750</td>\n",
       "      <td>105.408559</td>\n",
       "      <td>6482.25</td>\n",
       "      <td>...</td>\n",
       "      <td>7.296127</td>\n",
       "      <td>15.309445</td>\n",
       "      <td>14.156956</td>\n",
       "      <td>3126.100</td>\n",
       "      <td>729.925</td>\n",
       "      <td>14.494583</td>\n",
       "      <td>908.375</td>\n",
       "      <td>6.1275</td>\n",
       "      <td>6.0200</td>\n",
       "      <td>AMST</td>\n",
       "    </tr>\n",
       "    <tr>\n",
       "      <th>1</th>\n",
       "      <td>1</td>\n",
       "      <td>2449959689</td>\n",
       "      <td>10/22/2020 5:44</td>\n",
       "      <td>64.500000</td>\n",
       "      <td>16067.85283</td>\n",
       "      <td>4004.256635</td>\n",
       "      <td>66.933041</td>\n",
       "      <td>6889.675</td>\n",
       "      <td>105.303989</td>\n",
       "      <td>6654.25</td>\n",
       "      <td>...</td>\n",
       "      <td>7.219022</td>\n",
       "      <td>15.285057</td>\n",
       "      <td>14.270939</td>\n",
       "      <td>3135.775</td>\n",
       "      <td>733.150</td>\n",
       "      <td>14.494583</td>\n",
       "      <td>908.375</td>\n",
       "      <td>6.1275</td>\n",
       "      <td>6.0200</td>\n",
       "      <td>AMST</td>\n",
       "    </tr>\n",
       "    <tr>\n",
       "      <th>2</th>\n",
       "      <td>2</td>\n",
       "      <td>2449959720</td>\n",
       "      <td>10/22/2020 7:00</td>\n",
       "      <td>64.177513</td>\n",
       "      <td>16062.20908</td>\n",
       "      <td>3996.957605</td>\n",
       "      <td>67.177043</td>\n",
       "      <td>6614.475</td>\n",
       "      <td>105.237753</td>\n",
       "      <td>7363.75</td>\n",
       "      <td>...</td>\n",
       "      <td>7.182910</td>\n",
       "      <td>14.155171</td>\n",
       "      <td>13.269140</td>\n",
       "      <td>3492.675</td>\n",
       "      <td>912.675</td>\n",
       "      <td>14.494583</td>\n",
       "      <td>908.375</td>\n",
       "      <td>6.1275</td>\n",
       "      <td>6.0200</td>\n",
       "      <td>AMST</td>\n",
       "    </tr>\n",
       "    <tr>\n",
       "      <th>3</th>\n",
       "      <td>3</td>\n",
       "      <td>2449960768</td>\n",
       "      <td>10/25/2020 17:38</td>\n",
       "      <td>21.392395</td>\n",
       "      <td>23908.36533</td>\n",
       "      <td>0.000000</td>\n",
       "      <td>67.916019</td>\n",
       "      <td>6718.750</td>\n",
       "      <td>105.202896</td>\n",
       "      <td>8825.75</td>\n",
       "      <td>...</td>\n",
       "      <td>NaN</td>\n",
       "      <td>14.855308</td>\n",
       "      <td>14.353551</td>\n",
       "      <td>3935.575</td>\n",
       "      <td>883.650</td>\n",
       "      <td>14.494583</td>\n",
       "      <td>908.375</td>\n",
       "      <td>6.1275</td>\n",
       "      <td>6.5575</td>\n",
       "      <td>HNK</td>\n",
       "    </tr>\n",
       "    <tr>\n",
       "      <th>4</th>\n",
       "      <td>4</td>\n",
       "      <td>2449960799</td>\n",
       "      <td>10/25/2020 19:33</td>\n",
       "      <td>21.177513</td>\n",
       "      <td>24607.28750</td>\n",
       "      <td>0.000000</td>\n",
       "      <td>67.037616</td>\n",
       "      <td>6357.550</td>\n",
       "      <td>105.237753</td>\n",
       "      <td>8213.00</td>\n",
       "      <td>...</td>\n",
       "      <td>NaN</td>\n",
       "      <td>15.270026</td>\n",
       "      <td>13.847422</td>\n",
       "      <td>3717.350</td>\n",
       "      <td>824.525</td>\n",
       "      <td>14.494583</td>\n",
       "      <td>908.375</td>\n",
       "      <td>6.5575</td>\n",
       "      <td>6.1275</td>\n",
       "      <td>HNK</td>\n",
       "    </tr>\n",
       "  </tbody>\n",
       "</table>\n",
       "<p>5 rows × 22 columns</p>\n",
       "</div>"
      ],
      "text/plain": [
       "   Unnamed: 0      Job ID         Date/Time  Roast amount (kg)  \\\n",
       "0           0  2449959642   10/22/2020 2:50          64.499934   \n",
       "1           1  2449959689   10/22/2020 5:44          64.500000   \n",
       "2           2  2449959720   10/22/2020 7:00          64.177513   \n",
       "3           3  2449960768  10/25/2020 17:38          21.392395   \n",
       "4           4  2449960799  10/25/2020 19:33          21.177513   \n",
       "\n",
       "   1st malt amount (kg)  2nd malt amount (kg)  MT - Temperature  MT - Time  \\\n",
       "0           16051.99658           3999.860052         67.312984   6546.750   \n",
       "1           16067.85283           4004.256635         66.933041   6889.675   \n",
       "2           16062.20908           3996.957605         67.177043   6614.475   \n",
       "3           23908.36533              0.000000         67.916019   6718.750   \n",
       "4           24607.28750              0.000000         67.037616   6357.550   \n",
       "\n",
       "   WK - Temperature  WK - Steam  ...        pH    Extract      Color  \\\n",
       "0        105.408559     6482.25  ...  7.296127  15.309445  14.156956   \n",
       "1        105.303989     6654.25  ...  7.219022  15.285057  14.270939   \n",
       "2        105.237753     7363.75  ...  7.182910  14.155171  13.269140   \n",
       "3        105.202896     8825.75  ...       NaN  14.855308  14.353551   \n",
       "4        105.237753     8213.00  ...       NaN  15.270026  13.847422   \n",
       "\n",
       "   WOC - Time  WHP Transfer - Time  WHP Rest - Time  Roast color  \\\n",
       "0    3126.100              729.925        14.494583      908.375   \n",
       "1    3135.775              733.150        14.494583      908.375   \n",
       "2    3492.675              912.675        14.494583      908.375   \n",
       "3    3935.575              883.650        14.494583      908.375   \n",
       "4    3717.350              824.525        14.494583      908.375   \n",
       "\n",
       "   1st malt color  2nd malt color  Product  \n",
       "0          6.1275          6.0200     AMST  \n",
       "1          6.1275          6.0200     AMST  \n",
       "2          6.1275          6.0200     AMST  \n",
       "3          6.1275          6.5575      HNK  \n",
       "4          6.5575          6.1275      HNK  \n",
       "\n",
       "[5 rows x 22 columns]"
      ]
     },
     "execution_count": 2,
     "metadata": {},
     "output_type": "execute_result"
    }
   ],
   "source": [
    "df = pd.read_csv('dataset.csv')\n",
    "df.head()"
   ]
  },
  {
   "cell_type": "markdown",
   "metadata": {},
   "source": [
    "Checking brands quantity"
   ]
  },
  {
   "cell_type": "code",
   "execution_count": 3,
   "metadata": {},
   "outputs": [
    {
     "data": {
      "text/plain": [
       "Product\n",
       "AMST    180\n",
       "HNK      20\n",
       "Name: count, dtype: int64"
      ]
     },
     "execution_count": 3,
     "metadata": {},
     "output_type": "execute_result"
    }
   ],
   "source": [
    "df['Product'].value_counts()"
   ]
  },
  {
   "cell_type": "markdown",
   "metadata": {},
   "source": [
    "Just rearranging the columns"
   ]
  },
  {
   "cell_type": "code",
   "execution_count": 4,
   "metadata": {},
   "outputs": [
    {
     "data": {
      "text/html": [
       "<div>\n",
       "<style scoped>\n",
       "    .dataframe tbody tr th:only-of-type {\n",
       "        vertical-align: middle;\n",
       "    }\n",
       "\n",
       "    .dataframe tbody tr th {\n",
       "        vertical-align: top;\n",
       "    }\n",
       "\n",
       "    .dataframe thead th {\n",
       "        text-align: right;\n",
       "    }\n",
       "</style>\n",
       "<table border=\"1\" class=\"dataframe\">\n",
       "  <thead>\n",
       "    <tr style=\"text-align: right;\">\n",
       "      <th></th>\n",
       "      <th>Unnamed: 0</th>\n",
       "      <th>Job ID</th>\n",
       "      <th>Date/Time</th>\n",
       "      <th>Roast amount (kg)</th>\n",
       "      <th>1st malt amount (kg)</th>\n",
       "      <th>2nd malt amount (kg)</th>\n",
       "      <th>MT - Temperature</th>\n",
       "      <th>MT - Time</th>\n",
       "      <th>WK - Temperature</th>\n",
       "      <th>WK - Steam</th>\n",
       "      <th>...</th>\n",
       "      <th>Extract</th>\n",
       "      <th>WOC - Time</th>\n",
       "      <th>WHP Transfer - Time</th>\n",
       "      <th>WHP Rest - Time</th>\n",
       "      <th>Roast color</th>\n",
       "      <th>1st malt color</th>\n",
       "      <th>2nd malt color</th>\n",
       "      <th>pH</th>\n",
       "      <th>Product</th>\n",
       "      <th>Color</th>\n",
       "    </tr>\n",
       "  </thead>\n",
       "  <tbody>\n",
       "    <tr>\n",
       "      <th>0</th>\n",
       "      <td>0</td>\n",
       "      <td>2449959642</td>\n",
       "      <td>10/22/2020 2:50</td>\n",
       "      <td>64.499934</td>\n",
       "      <td>16051.99658</td>\n",
       "      <td>3999.860052</td>\n",
       "      <td>67.312984</td>\n",
       "      <td>6546.750</td>\n",
       "      <td>105.408559</td>\n",
       "      <td>6482.25</td>\n",
       "      <td>...</td>\n",
       "      <td>15.309445</td>\n",
       "      <td>3126.100</td>\n",
       "      <td>729.925</td>\n",
       "      <td>14.494583</td>\n",
       "      <td>908.375</td>\n",
       "      <td>6.1275</td>\n",
       "      <td>6.0200</td>\n",
       "      <td>7.296127</td>\n",
       "      <td>AMST</td>\n",
       "      <td>14.156956</td>\n",
       "    </tr>\n",
       "    <tr>\n",
       "      <th>1</th>\n",
       "      <td>1</td>\n",
       "      <td>2449959689</td>\n",
       "      <td>10/22/2020 5:44</td>\n",
       "      <td>64.500000</td>\n",
       "      <td>16067.85283</td>\n",
       "      <td>4004.256635</td>\n",
       "      <td>66.933041</td>\n",
       "      <td>6889.675</td>\n",
       "      <td>105.303989</td>\n",
       "      <td>6654.25</td>\n",
       "      <td>...</td>\n",
       "      <td>15.285057</td>\n",
       "      <td>3135.775</td>\n",
       "      <td>733.150</td>\n",
       "      <td>14.494583</td>\n",
       "      <td>908.375</td>\n",
       "      <td>6.1275</td>\n",
       "      <td>6.0200</td>\n",
       "      <td>7.219022</td>\n",
       "      <td>AMST</td>\n",
       "      <td>14.270939</td>\n",
       "    </tr>\n",
       "    <tr>\n",
       "      <th>2</th>\n",
       "      <td>2</td>\n",
       "      <td>2449959720</td>\n",
       "      <td>10/22/2020 7:00</td>\n",
       "      <td>64.177513</td>\n",
       "      <td>16062.20908</td>\n",
       "      <td>3996.957605</td>\n",
       "      <td>67.177043</td>\n",
       "      <td>6614.475</td>\n",
       "      <td>105.237753</td>\n",
       "      <td>7363.75</td>\n",
       "      <td>...</td>\n",
       "      <td>14.155171</td>\n",
       "      <td>3492.675</td>\n",
       "      <td>912.675</td>\n",
       "      <td>14.494583</td>\n",
       "      <td>908.375</td>\n",
       "      <td>6.1275</td>\n",
       "      <td>6.0200</td>\n",
       "      <td>7.182910</td>\n",
       "      <td>AMST</td>\n",
       "      <td>13.269140</td>\n",
       "    </tr>\n",
       "    <tr>\n",
       "      <th>3</th>\n",
       "      <td>3</td>\n",
       "      <td>2449960768</td>\n",
       "      <td>10/25/2020 17:38</td>\n",
       "      <td>21.392395</td>\n",
       "      <td>23908.36533</td>\n",
       "      <td>0.000000</td>\n",
       "      <td>67.916019</td>\n",
       "      <td>6718.750</td>\n",
       "      <td>105.202896</td>\n",
       "      <td>8825.75</td>\n",
       "      <td>...</td>\n",
       "      <td>14.855308</td>\n",
       "      <td>3935.575</td>\n",
       "      <td>883.650</td>\n",
       "      <td>14.494583</td>\n",
       "      <td>908.375</td>\n",
       "      <td>6.1275</td>\n",
       "      <td>6.5575</td>\n",
       "      <td>NaN</td>\n",
       "      <td>HNK</td>\n",
       "      <td>14.353551</td>\n",
       "    </tr>\n",
       "    <tr>\n",
       "      <th>4</th>\n",
       "      <td>4</td>\n",
       "      <td>2449960799</td>\n",
       "      <td>10/25/2020 19:33</td>\n",
       "      <td>21.177513</td>\n",
       "      <td>24607.28750</td>\n",
       "      <td>0.000000</td>\n",
       "      <td>67.037616</td>\n",
       "      <td>6357.550</td>\n",
       "      <td>105.237753</td>\n",
       "      <td>8213.00</td>\n",
       "      <td>...</td>\n",
       "      <td>15.270026</td>\n",
       "      <td>3717.350</td>\n",
       "      <td>824.525</td>\n",
       "      <td>14.494583</td>\n",
       "      <td>908.375</td>\n",
       "      <td>6.5575</td>\n",
       "      <td>6.1275</td>\n",
       "      <td>NaN</td>\n",
       "      <td>HNK</td>\n",
       "      <td>13.847422</td>\n",
       "    </tr>\n",
       "  </tbody>\n",
       "</table>\n",
       "<p>5 rows × 22 columns</p>\n",
       "</div>"
      ],
      "text/plain": [
       "   Unnamed: 0      Job ID         Date/Time  Roast amount (kg)  \\\n",
       "0           0  2449959642   10/22/2020 2:50          64.499934   \n",
       "1           1  2449959689   10/22/2020 5:44          64.500000   \n",
       "2           2  2449959720   10/22/2020 7:00          64.177513   \n",
       "3           3  2449960768  10/25/2020 17:38          21.392395   \n",
       "4           4  2449960799  10/25/2020 19:33          21.177513   \n",
       "\n",
       "   1st malt amount (kg)  2nd malt amount (kg)  MT - Temperature  MT - Time  \\\n",
       "0           16051.99658           3999.860052         67.312984   6546.750   \n",
       "1           16067.85283           4004.256635         66.933041   6889.675   \n",
       "2           16062.20908           3996.957605         67.177043   6614.475   \n",
       "3           23908.36533              0.000000         67.916019   6718.750   \n",
       "4           24607.28750              0.000000         67.037616   6357.550   \n",
       "\n",
       "   WK - Temperature  WK - Steam  ...    Extract  WOC - Time  \\\n",
       "0        105.408559     6482.25  ...  15.309445    3126.100   \n",
       "1        105.303989     6654.25  ...  15.285057    3135.775   \n",
       "2        105.237753     7363.75  ...  14.155171    3492.675   \n",
       "3        105.202896     8825.75  ...  14.855308    3935.575   \n",
       "4        105.237753     8213.00  ...  15.270026    3717.350   \n",
       "\n",
       "   WHP Transfer - Time  WHP Rest - Time  Roast color  1st malt color  \\\n",
       "0              729.925        14.494583      908.375          6.1275   \n",
       "1              733.150        14.494583      908.375          6.1275   \n",
       "2              912.675        14.494583      908.375          6.1275   \n",
       "3              883.650        14.494583      908.375          6.1275   \n",
       "4              824.525        14.494583      908.375          6.5575   \n",
       "\n",
       "   2nd malt color        pH  Product      Color  \n",
       "0          6.0200  7.296127     AMST  14.156956  \n",
       "1          6.0200  7.219022     AMST  14.270939  \n",
       "2          6.0200  7.182910     AMST  13.269140  \n",
       "3          6.5575       NaN      HNK  14.353551  \n",
       "4          6.1275       NaN      HNK  13.847422  \n",
       "\n",
       "[5 rows x 22 columns]"
      ]
     },
     "execution_count": 4,
     "metadata": {},
     "output_type": "execute_result"
    }
   ],
   "source": [
    "df = df.loc[:,[\n",
    "    'Unnamed: 0',\n",
    "    'Job ID',\n",
    "    'Date/Time',\n",
    "    'Roast amount (kg)',\n",
    "    '1st malt amount (kg)',\n",
    "    '2nd malt amount (kg)',\n",
    "    'MT - Temperature',\n",
    "    'MT - Time',\n",
    "    'WK - Temperature',\n",
    "    'WK - Steam',\n",
    "    'WK - Time',\n",
    "    'Total cold wort',\n",
    "    'Extract',\n",
    "    'WOC - Time',\n",
    "    'WHP Transfer - Time',\n",
    "    'WHP Rest - Time',\n",
    "    'Roast color',\n",
    "    '1st malt color',\n",
    "    '2nd malt color',\n",
    "    'pH',\n",
    "    'Product',\n",
    "    'Color'\n",
    "]].copy()\n",
    "\n",
    "df.head()"
   ]
  },
  {
   "cell_type": "markdown",
   "metadata": {},
   "source": [
    "## 🧹 Data cleanning"
   ]
  },
  {
   "cell_type": "markdown",
   "metadata": {},
   "source": [
    "Removing unnecessary columns"
   ]
  },
  {
   "cell_type": "code",
   "execution_count": 5,
   "metadata": {},
   "outputs": [
    {
     "data": {
      "text/html": [
       "<div>\n",
       "<style scoped>\n",
       "    .dataframe tbody tr th:only-of-type {\n",
       "        vertical-align: middle;\n",
       "    }\n",
       "\n",
       "    .dataframe tbody tr th {\n",
       "        vertical-align: top;\n",
       "    }\n",
       "\n",
       "    .dataframe thead th {\n",
       "        text-align: right;\n",
       "    }\n",
       "</style>\n",
       "<table border=\"1\" class=\"dataframe\">\n",
       "  <thead>\n",
       "    <tr style=\"text-align: right;\">\n",
       "      <th></th>\n",
       "      <th>Job ID</th>\n",
       "      <th>Roast amount (kg)</th>\n",
       "      <th>1st malt amount (kg)</th>\n",
       "      <th>2nd malt amount (kg)</th>\n",
       "      <th>MT - Temperature</th>\n",
       "      <th>MT - Time</th>\n",
       "      <th>WK - Temperature</th>\n",
       "      <th>WK - Steam</th>\n",
       "      <th>WK - Time</th>\n",
       "      <th>Total cold wort</th>\n",
       "      <th>Extract</th>\n",
       "      <th>WOC - Time</th>\n",
       "      <th>WHP Transfer - Time</th>\n",
       "      <th>WHP Rest - Time</th>\n",
       "      <th>Roast color</th>\n",
       "      <th>1st malt color</th>\n",
       "      <th>2nd malt color</th>\n",
       "      <th>pH</th>\n",
       "      <th>Product</th>\n",
       "      <th>Color</th>\n",
       "    </tr>\n",
       "  </thead>\n",
       "  <tbody>\n",
       "    <tr>\n",
       "      <th>0</th>\n",
       "      <td>2449959642</td>\n",
       "      <td>64.499934</td>\n",
       "      <td>16051.99658</td>\n",
       "      <td>3999.860052</td>\n",
       "      <td>67.312984</td>\n",
       "      <td>6546.750</td>\n",
       "      <td>105.408559</td>\n",
       "      <td>6482.25</td>\n",
       "      <td>6365.075</td>\n",
       "      <td>958.900</td>\n",
       "      <td>15.309445</td>\n",
       "      <td>3126.100</td>\n",
       "      <td>729.925</td>\n",
       "      <td>14.494583</td>\n",
       "      <td>908.375</td>\n",
       "      <td>6.1275</td>\n",
       "      <td>6.0200</td>\n",
       "      <td>7.296127</td>\n",
       "      <td>AMST</td>\n",
       "      <td>14.156956</td>\n",
       "    </tr>\n",
       "    <tr>\n",
       "      <th>1</th>\n",
       "      <td>2449959689</td>\n",
       "      <td>64.500000</td>\n",
       "      <td>16067.85283</td>\n",
       "      <td>4004.256635</td>\n",
       "      <td>66.933041</td>\n",
       "      <td>6889.675</td>\n",
       "      <td>105.303989</td>\n",
       "      <td>6654.25</td>\n",
       "      <td>5929.700</td>\n",
       "      <td>963.200</td>\n",
       "      <td>15.285057</td>\n",
       "      <td>3135.775</td>\n",
       "      <td>733.150</td>\n",
       "      <td>14.494583</td>\n",
       "      <td>908.375</td>\n",
       "      <td>6.1275</td>\n",
       "      <td>6.0200</td>\n",
       "      <td>7.219022</td>\n",
       "      <td>AMST</td>\n",
       "      <td>14.270939</td>\n",
       "    </tr>\n",
       "    <tr>\n",
       "      <th>2</th>\n",
       "      <td>2449959720</td>\n",
       "      <td>64.177513</td>\n",
       "      <td>16062.20908</td>\n",
       "      <td>3996.957605</td>\n",
       "      <td>67.177043</td>\n",
       "      <td>6614.475</td>\n",
       "      <td>105.237753</td>\n",
       "      <td>7363.75</td>\n",
       "      <td>6366.150</td>\n",
       "      <td>1088.975</td>\n",
       "      <td>14.155171</td>\n",
       "      <td>3492.675</td>\n",
       "      <td>912.675</td>\n",
       "      <td>14.494583</td>\n",
       "      <td>908.375</td>\n",
       "      <td>6.1275</td>\n",
       "      <td>6.0200</td>\n",
       "      <td>7.182910</td>\n",
       "      <td>AMST</td>\n",
       "      <td>13.269140</td>\n",
       "    </tr>\n",
       "    <tr>\n",
       "      <th>3</th>\n",
       "      <td>2449960768</td>\n",
       "      <td>21.392395</td>\n",
       "      <td>23908.36533</td>\n",
       "      <td>0.000000</td>\n",
       "      <td>67.916019</td>\n",
       "      <td>6718.750</td>\n",
       "      <td>105.202896</td>\n",
       "      <td>8825.75</td>\n",
       "      <td>6710.150</td>\n",
       "      <td>1127.675</td>\n",
       "      <td>14.855308</td>\n",
       "      <td>3935.575</td>\n",
       "      <td>883.650</td>\n",
       "      <td>14.494583</td>\n",
       "      <td>908.375</td>\n",
       "      <td>6.1275</td>\n",
       "      <td>6.5575</td>\n",
       "      <td>NaN</td>\n",
       "      <td>HNK</td>\n",
       "      <td>14.353551</td>\n",
       "    </tr>\n",
       "    <tr>\n",
       "      <th>4</th>\n",
       "      <td>2449960799</td>\n",
       "      <td>21.177513</td>\n",
       "      <td>24607.28750</td>\n",
       "      <td>0.000000</td>\n",
       "      <td>67.037616</td>\n",
       "      <td>6357.550</td>\n",
       "      <td>105.237753</td>\n",
       "      <td>8213.00</td>\n",
       "      <td>6397.325</td>\n",
       "      <td>1122.300</td>\n",
       "      <td>15.270026</td>\n",
       "      <td>3717.350</td>\n",
       "      <td>824.525</td>\n",
       "      <td>14.494583</td>\n",
       "      <td>908.375</td>\n",
       "      <td>6.5575</td>\n",
       "      <td>6.1275</td>\n",
       "      <td>NaN</td>\n",
       "      <td>HNK</td>\n",
       "      <td>13.847422</td>\n",
       "    </tr>\n",
       "  </tbody>\n",
       "</table>\n",
       "</div>"
      ],
      "text/plain": [
       "       Job ID  Roast amount (kg)  1st malt amount (kg)  2nd malt amount (kg)  \\\n",
       "0  2449959642          64.499934           16051.99658           3999.860052   \n",
       "1  2449959689          64.500000           16067.85283           4004.256635   \n",
       "2  2449959720          64.177513           16062.20908           3996.957605   \n",
       "3  2449960768          21.392395           23908.36533              0.000000   \n",
       "4  2449960799          21.177513           24607.28750              0.000000   \n",
       "\n",
       "   MT - Temperature  MT - Time  WK - Temperature  WK - Steam  WK - Time  \\\n",
       "0         67.312984   6546.750        105.408559     6482.25   6365.075   \n",
       "1         66.933041   6889.675        105.303989     6654.25   5929.700   \n",
       "2         67.177043   6614.475        105.237753     7363.75   6366.150   \n",
       "3         67.916019   6718.750        105.202896     8825.75   6710.150   \n",
       "4         67.037616   6357.550        105.237753     8213.00   6397.325   \n",
       "\n",
       "   Total cold wort    Extract  WOC - Time  WHP Transfer - Time  \\\n",
       "0          958.900  15.309445    3126.100              729.925   \n",
       "1          963.200  15.285057    3135.775              733.150   \n",
       "2         1088.975  14.155171    3492.675              912.675   \n",
       "3         1127.675  14.855308    3935.575              883.650   \n",
       "4         1122.300  15.270026    3717.350              824.525   \n",
       "\n",
       "   WHP Rest - Time  Roast color  1st malt color  2nd malt color        pH  \\\n",
       "0        14.494583      908.375          6.1275          6.0200  7.296127   \n",
       "1        14.494583      908.375          6.1275          6.0200  7.219022   \n",
       "2        14.494583      908.375          6.1275          6.0200  7.182910   \n",
       "3        14.494583      908.375          6.1275          6.5575       NaN   \n",
       "4        14.494583      908.375          6.5575          6.1275       NaN   \n",
       "\n",
       "  Product      Color  \n",
       "0    AMST  14.156956  \n",
       "1    AMST  14.270939  \n",
       "2    AMST  13.269140  \n",
       "3     HNK  14.353551  \n",
       "4     HNK  13.847422  "
      ]
     },
     "execution_count": 5,
     "metadata": {},
     "output_type": "execute_result"
    }
   ],
   "source": [
    "df.drop(\n",
    "    columns=[\n",
    "        'Unnamed: 0',\n",
    "        'Date/Time'\n",
    "    ],\n",
    "    axis=1,\n",
    "    inplace=True\n",
    ")\n",
    "\n",
    "df.head()"
   ]
  },
  {
   "cell_type": "markdown",
   "metadata": {},
   "source": [
    "### • Fixing missing data"
   ]
  },
  {
   "cell_type": "markdown",
   "metadata": {},
   "source": [
    "checking if the data is clean"
   ]
  },
  {
   "cell_type": "code",
   "execution_count": 6,
   "metadata": {},
   "outputs": [
    {
     "data": {
      "text/plain": [
       "Job ID                   0\n",
       "Roast amount (kg)        3\n",
       "1st malt amount (kg)     0\n",
       "2nd malt amount (kg)     0\n",
       "MT - Temperature         0\n",
       "MT - Time                0\n",
       "WK - Temperature         0\n",
       "WK - Steam               0\n",
       "WK - Time                0\n",
       "Total cold wort          0\n",
       "Extract                  0\n",
       "WOC - Time               0\n",
       "WHP Transfer - Time      0\n",
       "WHP Rest - Time          0\n",
       "Roast color              0\n",
       "1st malt color           0\n",
       "2nd malt color           0\n",
       "pH                      11\n",
       "Product                  0\n",
       "Color                   30\n",
       "dtype: int64"
      ]
     },
     "execution_count": 6,
     "metadata": {},
     "output_type": "execute_result"
    }
   ],
   "source": [
    "df.isna().sum()"
   ]
  },
  {
   "cell_type": "markdown",
   "metadata": {},
   "source": [
    "Checking brands on empty Colors"
   ]
  },
  {
   "cell_type": "code",
   "execution_count": 7,
   "metadata": {},
   "outputs": [
    {
     "data": {
      "text/plain": [
       "Product\n",
       "AMST    30\n",
       "Name: count, dtype: int64"
      ]
     },
     "execution_count": 7,
     "metadata": {},
     "output_type": "execute_result"
    }
   ],
   "source": [
    "df[df['Color'].isna()]['Product'].value_counts()"
   ]
  },
  {
   "cell_type": "markdown",
   "metadata": {},
   "source": [
    "I decided to remove the Product column because the entire manufacturing is the same for both brands"
   ]
  },
  {
   "cell_type": "code",
   "execution_count": 8,
   "metadata": {},
   "outputs": [],
   "source": [
    "df.drop(\n",
    "    'Product',\n",
    "    axis=1,\n",
    "    inplace=True\n",
    ")"
   ]
  },
  {
   "cell_type": "markdown",
   "metadata": {},
   "source": [
    "clearing empty data and save empty colors to predict later"
   ]
  },
  {
   "cell_type": "code",
   "execution_count": 9,
   "metadata": {},
   "outputs": [],
   "source": [
    "df.dropna(\n",
    "    subset=[\n",
    "        'Roast amount (kg)',\n",
    "        'pH'\n",
    "    ],\n",
    "    inplace=True\n",
    ")\n",
    "df_to_predict_later = df[df['Color'].isna()].copy()\n",
    "df.dropna(subset=['Color'], inplace=True)"
   ]
  },
  {
   "cell_type": "code",
   "execution_count": 10,
   "metadata": {},
   "outputs": [
    {
     "data": {
      "text/html": [
       "<div>\n",
       "<style scoped>\n",
       "    .dataframe tbody tr th:only-of-type {\n",
       "        vertical-align: middle;\n",
       "    }\n",
       "\n",
       "    .dataframe tbody tr th {\n",
       "        vertical-align: top;\n",
       "    }\n",
       "\n",
       "    .dataframe thead th {\n",
       "        text-align: right;\n",
       "    }\n",
       "</style>\n",
       "<table border=\"1\" class=\"dataframe\">\n",
       "  <thead>\n",
       "    <tr style=\"text-align: right;\">\n",
       "      <th></th>\n",
       "      <th>Job ID</th>\n",
       "      <th>Roast amount (kg)</th>\n",
       "      <th>1st malt amount (kg)</th>\n",
       "      <th>2nd malt amount (kg)</th>\n",
       "      <th>MT - Temperature</th>\n",
       "      <th>MT - Time</th>\n",
       "      <th>WK - Temperature</th>\n",
       "      <th>WK - Steam</th>\n",
       "      <th>WK - Time</th>\n",
       "      <th>Total cold wort</th>\n",
       "      <th>Extract</th>\n",
       "      <th>WOC - Time</th>\n",
       "      <th>WHP Transfer - Time</th>\n",
       "      <th>WHP Rest - Time</th>\n",
       "      <th>Roast color</th>\n",
       "      <th>1st malt color</th>\n",
       "      <th>2nd malt color</th>\n",
       "      <th>pH</th>\n",
       "      <th>Color</th>\n",
       "    </tr>\n",
       "  </thead>\n",
       "  <tbody>\n",
       "    <tr>\n",
       "      <th>38</th>\n",
       "      <td>2449962739</td>\n",
       "      <td>23.327513</td>\n",
       "      <td>13994.39304</td>\n",
       "      <td>6072.513855</td>\n",
       "      <td>77.303098</td>\n",
       "      <td>6717.675</td>\n",
       "      <td>105.098326</td>\n",
       "      <td>6869.25</td>\n",
       "      <td>7091.775</td>\n",
       "      <td>958.900</td>\n",
       "      <td>15.134790</td>\n",
       "      <td>3159.425</td>\n",
       "      <td>732.075</td>\n",
       "      <td>14.494583</td>\n",
       "      <td>908.375</td>\n",
       "      <td>6.1275</td>\n",
       "      <td>6.02</td>\n",
       "      <td>5.565181</td>\n",
       "      <td>NaN</td>\n",
       "    </tr>\n",
       "    <tr>\n",
       "      <th>39</th>\n",
       "      <td>2449962755</td>\n",
       "      <td>27.627579</td>\n",
       "      <td>14021.05283</td>\n",
       "      <td>6075.093750</td>\n",
       "      <td>67.072473</td>\n",
       "      <td>6996.100</td>\n",
       "      <td>105.168039</td>\n",
       "      <td>6460.75</td>\n",
       "      <td>6411.300</td>\n",
       "      <td>954.600</td>\n",
       "      <td>15.413623</td>\n",
       "      <td>3116.425</td>\n",
       "      <td>729.925</td>\n",
       "      <td>14.494583</td>\n",
       "      <td>908.375</td>\n",
       "      <td>6.1275</td>\n",
       "      <td>6.02</td>\n",
       "      <td>5.647166</td>\n",
       "      <td>NaN</td>\n",
       "    </tr>\n",
       "    <tr>\n",
       "      <th>40</th>\n",
       "      <td>2449962807</td>\n",
       "      <td>23.327579</td>\n",
       "      <td>13992.20000</td>\n",
       "      <td>6074.330542</td>\n",
       "      <td>67.107329</td>\n",
       "      <td>7225.075</td>\n",
       "      <td>105.237753</td>\n",
       "      <td>6675.75</td>\n",
       "      <td>6717.675</td>\n",
       "      <td>959.975</td>\n",
       "      <td>15.787452</td>\n",
       "      <td>3129.325</td>\n",
       "      <td>731.000</td>\n",
       "      <td>14.494583</td>\n",
       "      <td>908.375</td>\n",
       "      <td>6.1275</td>\n",
       "      <td>6.02</td>\n",
       "      <td>5.652046</td>\n",
       "      <td>NaN</td>\n",
       "    </tr>\n",
       "    <tr>\n",
       "      <th>41</th>\n",
       "      <td>2449962840</td>\n",
       "      <td>64.392526</td>\n",
       "      <td>14014.87158</td>\n",
       "      <td>6076.383960</td>\n",
       "      <td>66.933041</td>\n",
       "      <td>6561.800</td>\n",
       "      <td>105.303989</td>\n",
       "      <td>6428.50</td>\n",
       "      <td>6543.525</td>\n",
       "      <td>964.275</td>\n",
       "      <td>15.677505</td>\n",
       "      <td>3139.000</td>\n",
       "      <td>729.925</td>\n",
       "      <td>14.494583</td>\n",
       "      <td>908.375</td>\n",
       "      <td>6.1275</td>\n",
       "      <td>6.02</td>\n",
       "      <td>5.675958</td>\n",
       "      <td>NaN</td>\n",
       "    </tr>\n",
       "    <tr>\n",
       "      <th>42</th>\n",
       "      <td>2449962859</td>\n",
       "      <td>24.509987</td>\n",
       "      <td>14001.43408</td>\n",
       "      <td>6076.921460</td>\n",
       "      <td>66.901670</td>\n",
       "      <td>6669.300</td>\n",
       "      <td>105.338846</td>\n",
       "      <td>6557.50</td>\n",
       "      <td>6579.000</td>\n",
       "      <td>963.200</td>\n",
       "      <td>15.653609</td>\n",
       "      <td>3141.150</td>\n",
       "      <td>735.300</td>\n",
       "      <td>14.494583</td>\n",
       "      <td>908.375</td>\n",
       "      <td>6.1275</td>\n",
       "      <td>6.02</td>\n",
       "      <td>5.671078</td>\n",
       "      <td>NaN</td>\n",
       "    </tr>\n",
       "  </tbody>\n",
       "</table>\n",
       "</div>"
      ],
      "text/plain": [
       "        Job ID  Roast amount (kg)  1st malt amount (kg)  2nd malt amount (kg)  \\\n",
       "38  2449962739          23.327513           13994.39304           6072.513855   \n",
       "39  2449962755          27.627579           14021.05283           6075.093750   \n",
       "40  2449962807          23.327579           13992.20000           6074.330542   \n",
       "41  2449962840          64.392526           14014.87158           6076.383960   \n",
       "42  2449962859          24.509987           14001.43408           6076.921460   \n",
       "\n",
       "    MT - Temperature  MT - Time  WK - Temperature  WK - Steam  WK - Time  \\\n",
       "38         77.303098   6717.675        105.098326     6869.25   7091.775   \n",
       "39         67.072473   6996.100        105.168039     6460.75   6411.300   \n",
       "40         67.107329   7225.075        105.237753     6675.75   6717.675   \n",
       "41         66.933041   6561.800        105.303989     6428.50   6543.525   \n",
       "42         66.901670   6669.300        105.338846     6557.50   6579.000   \n",
       "\n",
       "    Total cold wort    Extract  WOC - Time  WHP Transfer - Time  \\\n",
       "38          958.900  15.134790    3159.425              732.075   \n",
       "39          954.600  15.413623    3116.425              729.925   \n",
       "40          959.975  15.787452    3129.325              731.000   \n",
       "41          964.275  15.677505    3139.000              729.925   \n",
       "42          963.200  15.653609    3141.150              735.300   \n",
       "\n",
       "    WHP Rest - Time  Roast color  1st malt color  2nd malt color        pH  \\\n",
       "38        14.494583      908.375          6.1275            6.02  5.565181   \n",
       "39        14.494583      908.375          6.1275            6.02  5.647166   \n",
       "40        14.494583      908.375          6.1275            6.02  5.652046   \n",
       "41        14.494583      908.375          6.1275            6.02  5.675958   \n",
       "42        14.494583      908.375          6.1275            6.02  5.671078   \n",
       "\n",
       "    Color  \n",
       "38    NaN  \n",
       "39    NaN  \n",
       "40    NaN  \n",
       "41    NaN  \n",
       "42    NaN  "
      ]
     },
     "execution_count": 10,
     "metadata": {},
     "output_type": "execute_result"
    }
   ],
   "source": [
    "df_to_predict_later.head()"
   ]
  },
  {
   "cell_type": "markdown",
   "metadata": {},
   "source": [
    "Here I saved the Job ID for later and removed it as it is also an unnecessary column"
   ]
  },
  {
   "cell_type": "code",
   "execution_count": 11,
   "metadata": {},
   "outputs": [],
   "source": [
    "job_id_to_concat_later = df_to_predict_later['Job ID']\n",
    "\n",
    "df.drop(\n",
    "    'Job ID',\n",
    "    axis=1,\n",
    "    inplace=True\n",
    ")\n",
    "\n",
    "df_to_predict_later.drop(\n",
    "    'Job ID',\n",
    "    axis=1,\n",
    "    inplace=True\n",
    ")"
   ]
  },
  {
   "cell_type": "markdown",
   "metadata": {},
   "source": [
    "checking again if the data is clean"
   ]
  },
  {
   "cell_type": "code",
   "execution_count": 12,
   "metadata": {},
   "outputs": [
    {
     "data": {
      "text/plain": [
       "Roast amount (kg)       0\n",
       "1st malt amount (kg)    0\n",
       "2nd malt amount (kg)    0\n",
       "MT - Temperature        0\n",
       "MT - Time               0\n",
       "WK - Temperature        0\n",
       "WK - Steam              0\n",
       "WK - Time               0\n",
       "Total cold wort         0\n",
       "Extract                 0\n",
       "WOC - Time              0\n",
       "WHP Transfer - Time     0\n",
       "WHP Rest - Time         0\n",
       "Roast color             0\n",
       "1st malt color          0\n",
       "2nd malt color          0\n",
       "pH                      0\n",
       "Color                   0\n",
       "dtype: int64"
      ]
     },
     "execution_count": 12,
     "metadata": {},
     "output_type": "execute_result"
    }
   ],
   "source": [
    "df.isna().sum()"
   ]
  },
  {
   "cell_type": "code",
   "execution_count": 13,
   "metadata": {},
   "outputs": [
    {
     "data": {
      "text/plain": [
       "Roast amount (kg)        0\n",
       "1st malt amount (kg)     0\n",
       "2nd malt amount (kg)     0\n",
       "MT - Temperature         0\n",
       "MT - Time                0\n",
       "WK - Temperature         0\n",
       "WK - Steam               0\n",
       "WK - Time                0\n",
       "Total cold wort          0\n",
       "Extract                  0\n",
       "WOC - Time               0\n",
       "WHP Transfer - Time      0\n",
       "WHP Rest - Time          0\n",
       "Roast color              0\n",
       "1st malt color           0\n",
       "2nd malt color           0\n",
       "pH                       0\n",
       "Color                   30\n",
       "dtype: int64"
      ]
     },
     "execution_count": 13,
     "metadata": {},
     "output_type": "execute_result"
    }
   ],
   "source": [
    "df_to_predict_later.isna().sum()"
   ]
  },
  {
   "cell_type": "markdown",
   "metadata": {},
   "source": [
    "### • Outliers removal"
   ]
  },
  {
   "cell_type": "markdown",
   "metadata": {},
   "source": [
    "Checking the histogram of the target column"
   ]
  },
  {
   "cell_type": "code",
   "execution_count": 14,
   "metadata": {},
   "outputs": [
    {
     "data": {
      "text/plain": [
       "<Axes: xlabel='Color', ylabel='Count'>"
      ]
     },
     "execution_count": 14,
     "metadata": {},
     "output_type": "execute_result"
    },
    {
     "data": {
      "image/png": "[encoded data removed]",
      "text/plain": [
       "<Figure size 640x480 with 1 Axes>"
      ]
     },
     "metadata": {},
     "output_type": "display_data"
    }
   ],
   "source": [
    "sns.histplot(df['Color'])"
   ]
  },
  {
   "cell_type": "markdown",
   "metadata": {},
   "source": [
    "removing outliers found"
   ]
  },
  {
   "cell_type": "code",
   "execution_count": 15,
   "metadata": {},
   "outputs": [
    {
     "data": {
      "text/plain": [
       "<Axes: xlabel='Color', ylabel='Count'>"
      ]
     },
     "execution_count": 15,
     "metadata": {},
     "output_type": "execute_result"
    },
    {
     "data": {
      "image/png": "[encoded data removed]",
      "text/plain": [
       "<Figure size 640x480 with 1 Axes>"
      ]
     },
     "metadata": {},
     "output_type": "display_data"
    }
   ],
   "source": [
    "df = df.drop(df[\n",
    "    (df['Color'] > 14) &\n",
    "     (df['Color'] < 25)\n",
    "].index)\n",
    "\n",
    "sns.histplot(df['Color'])"
   ]
  },
  {
   "cell_type": "markdown",
   "metadata": {},
   "source": [
    "checking scatter plots from RFE columns"
   ]
  },
  {
   "cell_type": "code",
   "execution_count": 16,
   "metadata": {},
   "outputs": [
    {
     "data": {
      "image/png": "[encoded data removed]",
      "text/plain": [
       "<Figure size 1000x400 with 6 Axes>"
      ]
     },
     "metadata": {},
     "output_type": "display_data"
    }
   ],
   "source": [
    "fig, axs = plt.subplots(2, 3, figsize=(10, 4))\n",
    "\n",
    "colunas = ['Roast amount (kg)', '2nd malt amount (kg)', 'WK - Temperature',\n",
    "       'WK - Steam', '1st malt color', 'pH', 'Color']\n",
    "\n",
    "for i, ax in enumerate(axs.flatten()):\n",
    "    ax.scatter(\n",
    "        x=df[colunas[i]],\n",
    "        y=df['Color']\n",
    "    )\n",
    "    ax.set_ylabel('Color', fontsize=13)\n",
    "    ax.set_xlabel(colunas[i], fontsize=13)\n",
    "\n",
    "fig.suptitle('Outlier analysis', fontsize=16)\n",
    "\n",
    "plt.tight_layout()\n",
    "plt.show()"
   ]
  },
  {
   "cell_type": "markdown",
   "metadata": {},
   "source": [
    "removing outliers found"
   ]
  },
  {
   "cell_type": "code",
   "execution_count": 17,
   "metadata": {},
   "outputs": [],
   "source": [
    "df = df.drop(df[\n",
    "    df['WK - Temperature'] < 98\n",
    "].index)\n",
    "\n",
    "df = df.drop(df[\n",
    "    df['pH'] < 3\n",
    "].index)"
   ]
  },
  {
   "cell_type": "markdown",
   "metadata": {},
   "source": [
    "### ⚙️ Feature Engineering"
   ]
  },
  {
   "cell_type": "markdown",
   "metadata": {},
   "source": [
    "Identifying highly correlated columns"
   ]
  },
  {
   "cell_type": "code",
   "execution_count": 18,
   "metadata": {},
   "outputs": [
    {
     "data": {
      "text/plain": [
       "<Axes: >"
      ]
     },
     "execution_count": 18,
     "metadata": {},
     "output_type": "execute_result"
    },
    {
     "data": {
      "image/png": "[encoded data removed]",
      "text/plain": [
       "<Figure size 640x480 with 2 Axes>"
      ]
     },
     "metadata": {},
     "output_type": "display_data"
    }
   ],
   "source": [
    "matriz_correlacao = df.corr()\n",
    "\n",
    "# sns.heatmap(\n",
    "#     matriz_correlacao[\n",
    "#         (abs(matriz_correlacao) > 0.8) &\n",
    "#         (matriz_correlacao != 1.00)\n",
    "#     ],\n",
    "#     annot=True,\n",
    "#     fmt='.1f'\n",
    "# )\n",
    "\n",
    "mask = np.zeros_like(matriz_correlacao, dtype=bool)\n",
    "mask[np.triu_indices_from(mask)] = True\n",
    "matriz_correlacao[mask] = np.nan\n",
    "\n",
    "matriz_correlacao[abs(matriz_correlacao) < 0.8] = np.nan\n",
    "\n",
    "# (\n",
    "#     matriz_correlacao\n",
    "#     .style\n",
    "#     .background_gradient(cmap='coolwarm', axis=None, vmin=-1, vmax=1)\n",
    "#     .highlight_null(color='#f1f1f1')  # Color NaNs grey\n",
    "#     .format(precision=2)\n",
    "# )\n",
    "\n",
    "\n",
    "sns.heatmap(\n",
    "    matriz_correlacao,\n",
    "    annot=True,\n",
    "    fmt='.1f'\n",
    ")"
   ]
  },
  {
   "cell_type": "code",
   "execution_count": 19,
   "metadata": {},
   "outputs": [
    {
     "name": "stdout",
     "output_type": "stream",
     "text": [
      "WOC - Time                Total cold wort           0.9101011131612274\n",
      "2nd malt amount (kg)      1st malt amount (kg)      0.8883870331676128\n",
      "Extract                   Total cold wort           0.8110397480034063\n"
     ]
    }
   ],
   "source": [
    "\n",
    "\n",
    "limiar_correlacao = 0.8\n",
    "pares_correlacionados = []\n",
    "\n",
    "for i in range(len(matriz_correlacao.columns)):\n",
    "    for j in range(i):\n",
    "        if abs(matriz_correlacao.iloc[i, j]) > limiar_correlacao:\n",
    "            par = (matriz_correlacao.columns[i], matriz_correlacao.columns[j], abs(matriz_correlacao.iloc[i, j]))\n",
    "            pares_correlacionados.append(par)\n",
    "\n",
    "lista_ordenada = sorted(pares_correlacionados, key=lambda x: x[2], reverse=True)\n",
    "for par in lista_ordenada:\n",
    "    print(f'{par[0].ljust(25)} {par[1].ljust(25)} {par[2]}')"
   ]
  },
  {
   "cell_type": "markdown",
   "metadata": {},
   "source": [
    "Removing one of the highly correlated columns"
   ]
  },
  {
   "cell_type": "code",
   "execution_count": 20,
   "metadata": {},
   "outputs": [],
   "source": [
    "to_remove_again_late = [\n",
    "    '1st malt amount (kg)',\n",
    "    'Extract',\n",
    "    'WOC - Time'\n",
    "]\n",
    "\n",
    "df.drop(\n",
    "    to_remove_again_late,\n",
    "    axis=1,\n",
    "    inplace=True\n",
    ")"
   ]
  },
  {
   "cell_type": "markdown",
   "metadata": {},
   "source": [
    "Removing columns shown as less important by RFE"
   ]
  },
  {
   "cell_type": "code",
   "execution_count": 21,
   "metadata": {},
   "outputs": [
    {
     "data": {
      "text/plain": [
       "Index(['Roast amount (kg)', '2nd malt amount (kg)', 'WK - Temperature',\n",
       "       'WK - Steam', '1st malt color', 'pH', 'Color'],\n",
       "      dtype='object')"
      ]
     },
     "execution_count": 21,
     "metadata": {},
     "output_type": "execute_result"
    }
   ],
   "source": [
    "rfe_list = [\n",
    "    'MT - Temperature',\n",
    "    'MT - Time',\n",
    "    'WK - Time',\n",
    "    'Total cold wort',\n",
    "    'WHP Transfer - Time',\n",
    "    'WHP Rest - Time',\n",
    "    'Roast color',\n",
    "    '2nd malt color'\n",
    "]\n",
    "\n",
    "df = df.drop(\n",
    "    rfe_list,\n",
    "    axis=1\n",
    ")\n",
    "\n",
    "to_remove_again_late.extend(rfe_list)\n",
    "\n",
    "df.columns"
   ]
  },
  {
   "cell_type": "markdown",
   "metadata": {},
   "source": [
    "## ⚖️ Values normalization"
   ]
  },
  {
   "cell_type": "markdown",
   "metadata": {},
   "source": [
    "Here i used MinMaxScaler to normalize the data"
   ]
  },
  {
   "cell_type": "code",
   "execution_count": 22,
   "metadata": {},
   "outputs": [
    {
     "data": {
      "text/html": [
       "<div>\n",
       "<style scoped>\n",
       "    .dataframe tbody tr th:only-of-type {\n",
       "        vertical-align: middle;\n",
       "    }\n",
       "\n",
       "    .dataframe tbody tr th {\n",
       "        vertical-align: top;\n",
       "    }\n",
       "\n",
       "    .dataframe thead th {\n",
       "        text-align: right;\n",
       "    }\n",
       "</style>\n",
       "<table border=\"1\" class=\"dataframe\">\n",
       "  <thead>\n",
       "    <tr style=\"text-align: right;\">\n",
       "      <th></th>\n",
       "      <th>Roast amount (kg)</th>\n",
       "      <th>2nd malt amount (kg)</th>\n",
       "      <th>WK - Temperature</th>\n",
       "      <th>WK - Steam</th>\n",
       "      <th>1st malt color</th>\n",
       "      <th>pH</th>\n",
       "      <th>Color</th>\n",
       "    </tr>\n",
       "  </thead>\n",
       "  <tbody>\n",
       "    <tr>\n",
       "      <th>0</th>\n",
       "      <td>0.662100</td>\n",
       "      <td>0.403264</td>\n",
       "      <td>0.483138</td>\n",
       "      <td>0.587302</td>\n",
       "      <td>0.4</td>\n",
       "      <td>1.000000</td>\n",
       "      <td>0.051618</td>\n",
       "    </tr>\n",
       "    <tr>\n",
       "      <th>1</th>\n",
       "      <td>0.666667</td>\n",
       "      <td>0.621544</td>\n",
       "      <td>0.370780</td>\n",
       "      <td>0.433862</td>\n",
       "      <td>0.4</td>\n",
       "      <td>0.390755</td>\n",
       "      <td>0.046678</td>\n",
       "    </tr>\n",
       "    <tr>\n",
       "      <th>2</th>\n",
       "      <td>0.668188</td>\n",
       "      <td>0.607646</td>\n",
       "      <td>0.408233</td>\n",
       "      <td>0.280423</td>\n",
       "      <td>0.4</td>\n",
       "      <td>0.413868</td>\n",
       "      <td>0.046678</td>\n",
       "    </tr>\n",
       "    <tr>\n",
       "      <th>3</th>\n",
       "      <td>0.662100</td>\n",
       "      <td>0.612449</td>\n",
       "      <td>0.370780</td>\n",
       "      <td>0.174603</td>\n",
       "      <td>0.4</td>\n",
       "      <td>0.408631</td>\n",
       "      <td>0.073222</td>\n",
       "    </tr>\n",
       "    <tr>\n",
       "      <th>4</th>\n",
       "      <td>0.153729</td>\n",
       "      <td>0.612460</td>\n",
       "      <td>0.445685</td>\n",
       "      <td>0.132275</td>\n",
       "      <td>0.4</td>\n",
       "      <td>0.415674</td>\n",
       "      <td>0.053775</td>\n",
       "    </tr>\n",
       "  </tbody>\n",
       "</table>\n",
       "</div>"
      ],
      "text/plain": [
       "   Roast amount (kg)  2nd malt amount (kg)  WK - Temperature  WK - Steam  \\\n",
       "0           0.662100              0.403264          0.483138    0.587302   \n",
       "1           0.666667              0.621544          0.370780    0.433862   \n",
       "2           0.668188              0.607646          0.408233    0.280423   \n",
       "3           0.662100              0.612449          0.370780    0.174603   \n",
       "4           0.153729              0.612460          0.445685    0.132275   \n",
       "\n",
       "   1st malt color        pH     Color  \n",
       "0             0.4  1.000000  0.051618  \n",
       "1             0.4  0.390755  0.046678  \n",
       "2             0.4  0.413868  0.046678  \n",
       "3             0.4  0.408631  0.073222  \n",
       "4             0.4  0.415674  0.053775  "
      ]
     },
     "execution_count": 22,
     "metadata": {},
     "output_type": "execute_result"
    }
   ],
   "source": [
    "scaler = MinMaxScaler()\n",
    "\n",
    "df = pd.DataFrame(\n",
    "    scaler.fit_transform(df),\n",
    "    columns=df.columns\n",
    ")\n",
    "\n",
    "df.head()"
   ]
  },
  {
   "cell_type": "markdown",
   "metadata": {},
   "source": [
    "## 🦾 Trainnig the model"
   ]
  },
  {
   "cell_type": "markdown",
   "metadata": {},
   "source": [
    "#### • Model building"
   ]
  },
  {
   "cell_type": "code",
   "execution_count": 23,
   "metadata": {},
   "outputs": [
    {
     "name": "stdout",
     "output_type": "stream",
     "text": [
      "Total lines for training: 130\n"
     ]
    }
   ],
   "source": [
    "X = df.drop('Color', axis=1)\n",
    "y = df['Color']\n",
    "\n",
    "print(f'Total lines for training: {X.shape[0]}')"
   ]
  },
  {
   "cell_type": "code",
   "execution_count": 24,
   "metadata": {},
   "outputs": [],
   "source": [
    "X_train, X_test, y_train, y_test = train_test_split(X, y, test_size=0.2, random_state=42)"
   ]
  },
  {
   "cell_type": "code",
   "execution_count": 25,
   "metadata": {},
   "outputs": [],
   "source": [
    "modelo = RandomForestRegressor(n_estimators=100, random_state=42)\n",
    "\n",
    "# modelo.fit(X_train, y_train)\n",
    "# previsoes = modelo.predict(X_test)"
   ]
  },
  {
   "cell_type": "code",
   "execution_count": 26,
   "metadata": {},
   "outputs": [
    {
     "name": "stdout",
     "output_type": "stream",
     "text": [
      "Quantidade de features selecionadas: 6\n",
      "Colunas selecionadas:\n"
     ]
    },
    {
     "data": {
      "text/plain": [
       "['Roast amount (kg)',\n",
       " '2nd malt amount (kg)',\n",
       " 'WK - Temperature',\n",
       " 'WK - Steam',\n",
       " '1st malt color',\n",
       " 'pH']"
      ]
     },
     "execution_count": 26,
     "metadata": {},
     "output_type": "execute_result"
    }
   ],
   "source": [
    "rfecv = RFECV(\n",
    "    estimator=modelo,\n",
    "    cv=4,\n",
    "    step=1,\n",
    "    scoring='neg_mean_squared_error'\n",
    ")\n",
    "\n",
    "rfecv.fit(X_train, y_train)\n",
    "\n",
    "X_train_rfe = rfecv.transform(X_train)\n",
    "X_test_rfe = rfecv.transform(X_test)\n",
    "\n",
    "print(f'Quantidade de features selecionadas: {rfecv.n_features_}')\n",
    "print('Colunas selecionadas:')\n",
    "[col for col, is_selected in zip(X.columns, rfecv.support_) if is_selected]"
   ]
  },
  {
   "cell_type": "code",
   "execution_count": 27,
   "metadata": {},
   "outputs": [],
   "source": [
    "modelo.fit(X_train_rfe, y_train)\n",
    "previsoes = modelo.predict(X_test_rfe)"
   ]
  },
  {
   "cell_type": "code",
   "execution_count": 28,
   "metadata": {},
   "outputs": [
    {
     "data": {
      "image/png": "[encoded data removed]",
      "text/plain": [
       "<Figure size 640x480 with 1 Axes>"
      ]
     },
     "metadata": {},
     "output_type": "display_data"
    }
   ],
   "source": [
    "plt.figure()\n",
    "plt.xlabel(\"Número de Features Selecionadas\")\n",
    "plt.ylabel(\"Erro Quadrático Médio Negativo\")\n",
    "plt.plot(range(1, len(rfecv.cv_results_['mean_test_score']) + 1), rfecv.cv_results_['mean_test_score'])\n",
    "plt.show()"
   ]
  },
  {
   "cell_type": "markdown",
   "metadata": {},
   "source": [
    "I'm using RFE to know the columns who had the most importance to the training and use these at the beginning of this code"
   ]
  },
  {
   "cell_type": "code",
   "execution_count": 29,
   "metadata": {},
   "outputs": [
    {
     "data": {
      "text/plain": [
       "Index(['Roast amount (kg)', '2nd malt amount (kg)', 'WK - Temperature',\n",
       "       'WK - Steam', '1st malt color', 'pH'],\n",
       "      dtype='object')"
      ]
     },
     "execution_count": 29,
     "metadata": {},
     "output_type": "execute_result"
    }
   ],
   "source": [
    "rfe = RFE(modelo, n_features_to_select=6)\n",
    "X_train_rfe = rfe.fit_transform(X_train, y_train)\n",
    "X_test_rfe = rfe.transform(X_test)\n",
    "\n",
    "X.columns[rfe.support_]"
   ]
  },
  {
   "cell_type": "markdown",
   "metadata": {},
   "source": [
    "#### • Model performance"
   ]
  },
  {
   "cell_type": "code",
   "execution_count": 30,
   "metadata": {},
   "outputs": [
    {
     "name": "stdout",
     "output_type": "stream",
     "text": [
      "Mean squared error: 0.03\n",
      "R2 Score: 0.68\n"
     ]
    }
   ],
   "source": [
    "mse = mean_squared_error(y_test, previsoes)\n",
    "r2 = r2_score(y_test, previsoes)\n",
    "\n",
    "print(f\"Mean squared error: {mse:.2f}\")\n",
    "print(f\"R2 Score: {r2:.2f}\")"
   ]
  },
  {
   "cell_type": "markdown",
   "metadata": {},
   "source": [
    "## 🔮 Predicting empyt Colors"
   ]
  },
  {
   "cell_type": "markdown",
   "metadata": {},
   "source": [
    "recleaning"
   ]
  },
  {
   "cell_type": "code",
   "execution_count": 31,
   "metadata": {},
   "outputs": [],
   "source": [
    "df_to_predict_later.drop(\n",
    "    to_remove_again_late,\n",
    "    axis=1,\n",
    "    inplace=True\n",
    ")\n",
    "\n",
    "df_to_predict_later.drop('Color', axis=1, inplace=True)\n",
    "\n",
    "original_indexs = df_to_predict_later.index"
   ]
  },
  {
   "cell_type": "markdown",
   "metadata": {},
   "source": [
    "rescaling data"
   ]
  },
  {
   "cell_type": "code",
   "execution_count": 32,
   "metadata": {},
   "outputs": [],
   "source": [
    "scaler2 = MinMaxScaler()\n",
    "\n",
    "df_to_predict_later = pd.DataFrame(\n",
    "    scaler2.fit_transform(df_to_predict_later),\n",
    "    columns=df_to_predict_later.columns\n",
    ")"
   ]
  },
  {
   "cell_type": "markdown",
   "metadata": {},
   "source": [
    "predicting and saving index"
   ]
  },
  {
   "cell_type": "code",
   "execution_count": 33,
   "metadata": {},
   "outputs": [
    {
     "name": "stderr",
     "output_type": "stream",
     "text": [
      "c:\\Users\\paulo\\dev\\projetos\\PESSOAL\\heineken\\.venv\\Lib\\site-packages\\sklearn\\base.py:458: UserWarning: X has feature names, but RandomForestRegressor was fitted without feature names\n",
      "  warnings.warn(\n"
     ]
    }
   ],
   "source": [
    "previsoes_vazios = modelo.predict(df_to_predict_later)\n",
    "\n",
    "job_id_to_concat_later.reset_index(drop=True, inplace=True)"
   ]
  },
  {
   "cell_type": "markdown",
   "metadata": {},
   "source": [
    "returning original values"
   ]
  },
  {
   "cell_type": "code",
   "execution_count": 34,
   "metadata": {},
   "outputs": [],
   "source": [
    "df_to_predict_later['Color'] = previsoes_vazios\n",
    "\n",
    "inver_new_data = scaler.inverse_transform(df_to_predict_later)\n",
    "\n",
    "result_df = pd.DataFrame(inver_new_data, columns=df_to_predict_later.columns)"
   ]
  },
  {
   "cell_type": "markdown",
   "metadata": {},
   "source": [
    "assembling final dataframe"
   ]
  },
  {
   "cell_type": "code",
   "execution_count": 35,
   "metadata": {},
   "outputs": [],
   "source": [
    "df_to_predict_later = pd.concat([job_id_to_concat_later, result_df],axis=1)\n",
    "df_to_predict_later.index = original_indexs"
   ]
  },
  {
   "cell_type": "markdown",
   "metadata": {},
   "source": [
    "Here's the predictions for the empty color data"
   ]
  },
  {
   "cell_type": "code",
   "execution_count": 36,
   "metadata": {},
   "outputs": [
    {
     "data": {
      "text/html": [
       "<div>\n",
       "<style scoped>\n",
       "    .dataframe tbody tr th:only-of-type {\n",
       "        vertical-align: middle;\n",
       "    }\n",
       "\n",
       "    .dataframe tbody tr th {\n",
       "        vertical-align: top;\n",
       "    }\n",
       "\n",
       "    .dataframe thead th {\n",
       "        text-align: right;\n",
       "    }\n",
       "</style>\n",
       "<table border=\"1\" class=\"dataframe\">\n",
       "  <thead>\n",
       "    <tr style=\"text-align: right;\">\n",
       "      <th></th>\n",
       "      <th>Job ID</th>\n",
       "      <th>Roast amount (kg)</th>\n",
       "      <th>2nd malt amount (kg)</th>\n",
       "      <th>WK - Temperature</th>\n",
       "      <th>WK - Steam</th>\n",
       "      <th>1st malt color</th>\n",
       "      <th>pH</th>\n",
       "      <th>Color</th>\n",
       "    </tr>\n",
       "  </thead>\n",
       "  <tbody>\n",
       "    <tr>\n",
       "      <th>38</th>\n",
       "      <td>2449962739</td>\n",
       "      <td>24.109562</td>\n",
       "      <td>17.137594</td>\n",
       "      <td>104.788100</td>\n",
       "      <td>7324.333333</td>\n",
       "      <td>6.4500</td>\n",
       "      <td>5.098154</td>\n",
       "      <td>29.239699</td>\n",
       "    </tr>\n",
       "    <tr>\n",
       "      <th>39</th>\n",
       "      <td>2449962755</td>\n",
       "      <td>30.804213</td>\n",
       "      <td>27.820063</td>\n",
       "      <td>104.958866</td>\n",
       "      <td>6371.166667</td>\n",
       "      <td>6.4500</td>\n",
       "      <td>5.555386</td>\n",
       "      <td>30.149873</td>\n",
       "    </tr>\n",
       "    <tr>\n",
       "      <th>40</th>\n",
       "      <td>2449962807</td>\n",
       "      <td>24.109664</td>\n",
       "      <td>24.659878</td>\n",
       "      <td>105.129632</td>\n",
       "      <td>6872.833333</td>\n",
       "      <td>6.4500</td>\n",
       "      <td>5.582602</td>\n",
       "      <td>24.580563</td>\n",
       "    </tr>\n",
       "    <tr>\n",
       "      <th>41</th>\n",
       "      <td>2449962840</td>\n",
       "      <td>88.042526</td>\n",
       "      <td>33.162385</td>\n",
       "      <td>105.291879</td>\n",
       "      <td>6295.916667</td>\n",
       "      <td>6.4500</td>\n",
       "      <td>5.715961</td>\n",
       "      <td>24.821361</td>\n",
       "    </tr>\n",
       "    <tr>\n",
       "      <th>42</th>\n",
       "      <td>2449962859</td>\n",
       "      <td>25.950522</td>\n",
       "      <td>35.387990</td>\n",
       "      <td>105.377262</td>\n",
       "      <td>6596.916667</td>\n",
       "      <td>6.4500</td>\n",
       "      <td>5.688746</td>\n",
       "      <td>23.131180</td>\n",
       "    </tr>\n",
       "    <tr>\n",
       "      <th>43</th>\n",
       "      <td>2449962896</td>\n",
       "      <td>88.042424</td>\n",
       "      <td>8.902420</td>\n",
       "      <td>105.377262</td>\n",
       "      <td>6421.333333</td>\n",
       "      <td>6.4500</td>\n",
       "      <td>5.715961</td>\n",
       "      <td>24.510343</td>\n",
       "    </tr>\n",
       "    <tr>\n",
       "      <th>44</th>\n",
       "      <td>2449962907</td>\n",
       "      <td>88.042424</td>\n",
       "      <td>29.823978</td>\n",
       "      <td>105.548027</td>\n",
       "      <td>6521.666667</td>\n",
       "      <td>6.4500</td>\n",
       "      <td>7.182910</td>\n",
       "      <td>25.066562</td>\n",
       "    </tr>\n",
       "    <tr>\n",
       "      <th>45</th>\n",
       "      <td>2449962972</td>\n",
       "      <td>87.875101</td>\n",
       "      <td>9.793532</td>\n",
       "      <td>105.633410</td>\n",
       "      <td>7249.083333</td>\n",
       "      <td>6.4500</td>\n",
       "      <td>5.258729</td>\n",
       "      <td>24.220140</td>\n",
       "    </tr>\n",
       "    <tr>\n",
       "      <th>46</th>\n",
       "      <td>2449963016</td>\n",
       "      <td>27.958907</td>\n",
       "      <td>0.000000</td>\n",
       "      <td>105.633410</td>\n",
       "      <td>6170.500000</td>\n",
       "      <td>6.4500</td>\n",
       "      <td>5.958187</td>\n",
       "      <td>24.922315</td>\n",
       "    </tr>\n",
       "    <tr>\n",
       "      <th>47</th>\n",
       "      <td>2449963045</td>\n",
       "      <td>29.297797</td>\n",
       "      <td>19.541421</td>\n",
       "      <td>105.633410</td>\n",
       "      <td>6596.916667</td>\n",
       "      <td>6.4500</td>\n",
       "      <td>6.012618</td>\n",
       "      <td>24.240265</td>\n",
       "    </tr>\n",
       "    <tr>\n",
       "      <th>48</th>\n",
       "      <td>2449963088</td>\n",
       "      <td>25.783199</td>\n",
       "      <td>26.707261</td>\n",
       "      <td>105.718793</td>\n",
       "      <td>6822.666667</td>\n",
       "      <td>6.4500</td>\n",
       "      <td>5.179804</td>\n",
       "      <td>25.684016</td>\n",
       "    </tr>\n",
       "    <tr>\n",
       "      <th>144</th>\n",
       "      <td>2449968423</td>\n",
       "      <td>20.929713</td>\n",
       "      <td>9714.277116</td>\n",
       "      <td>105.206476</td>\n",
       "      <td>6747.416667</td>\n",
       "      <td>5.9125</td>\n",
       "      <td>5.500955</td>\n",
       "      <td>15.419776</td>\n",
       "    </tr>\n",
       "    <tr>\n",
       "      <th>145</th>\n",
       "      <td>2449968459</td>\n",
       "      <td>20.929611</td>\n",
       "      <td>9780.867045</td>\n",
       "      <td>105.206476</td>\n",
       "      <td>6672.166667</td>\n",
       "      <td>5.9125</td>\n",
       "      <td>5.609817</td>\n",
       "      <td>14.978828</td>\n",
       "    </tr>\n",
       "    <tr>\n",
       "      <th>146</th>\n",
       "      <td>2449968506</td>\n",
       "      <td>71.808224</td>\n",
       "      <td>9723.668560</td>\n",
       "      <td>105.462645</td>\n",
       "      <td>6722.333333</td>\n",
       "      <td>5.9125</td>\n",
       "      <td>5.609817</td>\n",
       "      <td>14.920413</td>\n",
       "    </tr>\n",
       "    <tr>\n",
       "      <th>147</th>\n",
       "      <td>2449968535</td>\n",
       "      <td>20.762288</td>\n",
       "      <td>9732.081956</td>\n",
       "      <td>105.462645</td>\n",
       "      <td>7073.500000</td>\n",
       "      <td>5.9125</td>\n",
       "      <td>5.743177</td>\n",
       "      <td>14.306472</td>\n",
       "    </tr>\n",
       "    <tr>\n",
       "      <th>148</th>\n",
       "      <td>2449968562</td>\n",
       "      <td>50.887758</td>\n",
       "      <td>9790.882268</td>\n",
       "      <td>105.462645</td>\n",
       "      <td>6647.083333</td>\n",
       "      <td>5.9125</td>\n",
       "      <td>5.852043</td>\n",
       "      <td>18.165302</td>\n",
       "    </tr>\n",
       "    <tr>\n",
       "      <th>149</th>\n",
       "      <td>2449968594</td>\n",
       "      <td>39.339620</td>\n",
       "      <td>9783.938120</td>\n",
       "      <td>105.377262</td>\n",
       "      <td>6722.333333</td>\n",
       "      <td>5.9125</td>\n",
       "      <td>6.067050</td>\n",
       "      <td>13.601960</td>\n",
       "    </tr>\n",
       "    <tr>\n",
       "      <th>150</th>\n",
       "      <td>2449968634</td>\n",
       "      <td>19.088650</td>\n",
       "      <td>9911.510498</td>\n",
       "      <td>105.462645</td>\n",
       "      <td>7148.750000</td>\n",
       "      <td>5.9125</td>\n",
       "      <td>5.299554</td>\n",
       "      <td>15.150675</td>\n",
       "    </tr>\n",
       "    <tr>\n",
       "      <th>151</th>\n",
       "      <td>2449968766</td>\n",
       "      <td>70.971508</td>\n",
       "      <td>9757.676415</td>\n",
       "      <td>105.377262</td>\n",
       "      <td>6772.500000</td>\n",
       "      <td>5.9125</td>\n",
       "      <td>5.313163</td>\n",
       "      <td>14.137227</td>\n",
       "    </tr>\n",
       "    <tr>\n",
       "      <th>152</th>\n",
       "      <td>2449968802</td>\n",
       "      <td>20.762390</td>\n",
       "      <td>9763.062205</td>\n",
       "      <td>105.206476</td>\n",
       "      <td>6672.166667</td>\n",
       "      <td>6.4500</td>\n",
       "      <td>5.179804</td>\n",
       "      <td>23.590319</td>\n",
       "    </tr>\n",
       "    <tr>\n",
       "      <th>153</th>\n",
       "      <td>2449968835</td>\n",
       "      <td>20.762390</td>\n",
       "      <td>9781.979848</td>\n",
       "      <td>105.206476</td>\n",
       "      <td>6571.833333</td>\n",
       "      <td>6.4500</td>\n",
       "      <td>5.285945</td>\n",
       "      <td>23.549086</td>\n",
       "    </tr>\n",
       "    <tr>\n",
       "      <th>154</th>\n",
       "      <td>2449968883</td>\n",
       "      <td>71.640901</td>\n",
       "      <td>9788.211107</td>\n",
       "      <td>105.291879</td>\n",
       "      <td>6546.750000</td>\n",
       "      <td>6.4500</td>\n",
       "      <td>5.207019</td>\n",
       "      <td>21.975477</td>\n",
       "    </tr>\n",
       "    <tr>\n",
       "      <th>155</th>\n",
       "      <td>2449968915</td>\n",
       "      <td>19.590721</td>\n",
       "      <td>9743.699006</td>\n",
       "      <td>105.206476</td>\n",
       "      <td>8202.250000</td>\n",
       "      <td>6.4500</td>\n",
       "      <td>4.762037</td>\n",
       "      <td>32.564647</td>\n",
       "    </tr>\n",
       "    <tr>\n",
       "      <th>156</th>\n",
       "      <td>2449968947</td>\n",
       "      <td>20.762390</td>\n",
       "      <td>9790.436713</td>\n",
       "      <td>105.377262</td>\n",
       "      <td>7224.000000</td>\n",
       "      <td>6.4500</td>\n",
       "      <td>5.326771</td>\n",
       "      <td>23.705767</td>\n",
       "    </tr>\n",
       "    <tr>\n",
       "      <th>157</th>\n",
       "      <td>2449968993</td>\n",
       "      <td>17.415013</td>\n",
       "      <td>9724.292338</td>\n",
       "      <td>105.206476</td>\n",
       "      <td>7399.583333</td>\n",
       "      <td>6.4500</td>\n",
       "      <td>5.125369</td>\n",
       "      <td>23.955715</td>\n",
       "    </tr>\n",
       "    <tr>\n",
       "      <th>158</th>\n",
       "      <td>2449969021</td>\n",
       "      <td>19.758146</td>\n",
       "      <td>9747.482969</td>\n",
       "      <td>105.462645</td>\n",
       "      <td>7424.666667</td>\n",
       "      <td>6.4500</td>\n",
       "      <td>5.098154</td>\n",
       "      <td>24.166171</td>\n",
       "    </tr>\n",
       "    <tr>\n",
       "      <th>159</th>\n",
       "      <td>2449969083</td>\n",
       "      <td>19.590721</td>\n",
       "      <td>9773.922897</td>\n",
       "      <td>105.462645</td>\n",
       "      <td>7299.250000</td>\n",
       "      <td>6.4500</td>\n",
       "      <td>4.910362</td>\n",
       "      <td>24.522452</td>\n",
       "    </tr>\n",
       "    <tr>\n",
       "      <th>160</th>\n",
       "      <td>2449969114</td>\n",
       "      <td>19.925469</td>\n",
       "      <td>9762.394958</td>\n",
       "      <td>105.291879</td>\n",
       "      <td>6220.666667</td>\n",
       "      <td>6.4500</td>\n",
       "      <td>4.480352</td>\n",
       "      <td>26.548675</td>\n",
       "    </tr>\n",
       "    <tr>\n",
       "      <th>161</th>\n",
       "      <td>2449969149</td>\n",
       "      <td>73.147114</td>\n",
       "      <td>9632.864308</td>\n",
       "      <td>105.129632</td>\n",
       "      <td>7324.333333</td>\n",
       "      <td>6.4500</td>\n",
       "      <td>4.749790</td>\n",
       "      <td>22.300173</td>\n",
       "    </tr>\n",
       "    <tr>\n",
       "      <th>162</th>\n",
       "      <td>2449969197</td>\n",
       "      <td>72.142870</td>\n",
       "      <td>9788.211107</td>\n",
       "      <td>105.129632</td>\n",
       "      <td>6973.166667</td>\n",
       "      <td>6.4500</td>\n",
       "      <td>4.534783</td>\n",
       "      <td>21.988109</td>\n",
       "    </tr>\n",
       "  </tbody>\n",
       "</table>\n",
       "</div>"
      ],
      "text/plain": [
       "         Job ID  Roast amount (kg)  2nd malt amount (kg)  WK - Temperature  \\\n",
       "38   2449962739          24.109562             17.137594        104.788100   \n",
       "39   2449962755          30.804213             27.820063        104.958866   \n",
       "40   2449962807          24.109664             24.659878        105.129632   \n",
       "41   2449962840          88.042526             33.162385        105.291879   \n",
       "42   2449962859          25.950522             35.387990        105.377262   \n",
       "43   2449962896          88.042424              8.902420        105.377262   \n",
       "44   2449962907          88.042424             29.823978        105.548027   \n",
       "45   2449962972          87.875101              9.793532        105.633410   \n",
       "46   2449963016          27.958907              0.000000        105.633410   \n",
       "47   2449963045          29.297797             19.541421        105.633410   \n",
       "48   2449963088          25.783199             26.707261        105.718793   \n",
       "144  2449968423          20.929713           9714.277116        105.206476   \n",
       "145  2449968459          20.929611           9780.867045        105.206476   \n",
       "146  2449968506          71.808224           9723.668560        105.462645   \n",
       "147  2449968535          20.762288           9732.081956        105.462645   \n",
       "148  2449968562          50.887758           9790.882268        105.462645   \n",
       "149  2449968594          39.339620           9783.938120        105.377262   \n",
       "150  2449968634          19.088650           9911.510498        105.462645   \n",
       "151  2449968766          70.971508           9757.676415        105.377262   \n",
       "152  2449968802          20.762390           9763.062205        105.206476   \n",
       "153  2449968835          20.762390           9781.979848        105.206476   \n",
       "154  2449968883          71.640901           9788.211107        105.291879   \n",
       "155  2449968915          19.590721           9743.699006        105.206476   \n",
       "156  2449968947          20.762390           9790.436713        105.377262   \n",
       "157  2449968993          17.415013           9724.292338        105.206476   \n",
       "158  2449969021          19.758146           9747.482969        105.462645   \n",
       "159  2449969083          19.590721           9773.922897        105.462645   \n",
       "160  2449969114          19.925469           9762.394958        105.291879   \n",
       "161  2449969149          73.147114           9632.864308        105.129632   \n",
       "162  2449969197          72.142870           9788.211107        105.129632   \n",
       "\n",
       "      WK - Steam  1st malt color        pH      Color  \n",
       "38   7324.333333          6.4500  5.098154  29.239699  \n",
       "39   6371.166667          6.4500  5.555386  30.149873  \n",
       "40   6872.833333          6.4500  5.582602  24.580563  \n",
       "41   6295.916667          6.4500  5.715961  24.821361  \n",
       "42   6596.916667          6.4500  5.688746  23.131180  \n",
       "43   6421.333333          6.4500  5.715961  24.510343  \n",
       "44   6521.666667          6.4500  7.182910  25.066562  \n",
       "45   7249.083333          6.4500  5.258729  24.220140  \n",
       "46   6170.500000          6.4500  5.958187  24.922315  \n",
       "47   6596.916667          6.4500  6.012618  24.240265  \n",
       "48   6822.666667          6.4500  5.179804  25.684016  \n",
       "144  6747.416667          5.9125  5.500955  15.419776  \n",
       "145  6672.166667          5.9125  5.609817  14.978828  \n",
       "146  6722.333333          5.9125  5.609817  14.920413  \n",
       "147  7073.500000          5.9125  5.743177  14.306472  \n",
       "148  6647.083333          5.9125  5.852043  18.165302  \n",
       "149  6722.333333          5.9125  6.067050  13.601960  \n",
       "150  7148.750000          5.9125  5.299554  15.150675  \n",
       "151  6772.500000          5.9125  5.313163  14.137227  \n",
       "152  6672.166667          6.4500  5.179804  23.590319  \n",
       "153  6571.833333          6.4500  5.285945  23.549086  \n",
       "154  6546.750000          6.4500  5.207019  21.975477  \n",
       "155  8202.250000          6.4500  4.762037  32.564647  \n",
       "156  7224.000000          6.4500  5.326771  23.705767  \n",
       "157  7399.583333          6.4500  5.125369  23.955715  \n",
       "158  7424.666667          6.4500  5.098154  24.166171  \n",
       "159  7299.250000          6.4500  4.910362  24.522452  \n",
       "160  6220.666667          6.4500  4.480352  26.548675  \n",
       "161  7324.333333          6.4500  4.749790  22.300173  \n",
       "162  6973.166667          6.4500  4.534783  21.988109  "
      ]
     },
     "execution_count": 36,
     "metadata": {},
     "output_type": "execute_result"
    }
   ],
   "source": [
    "df_to_predict_later"
   ]
  }
 ],
 "metadata": {
  "kernelspec": {
   "display_name": ".venv",
   "language": "python",
   "name": "python3"
  },
  "language_info": {
   "codemirror_mode": {
    "name": "ipython",
    "version": 3
   },
   "file_extension": ".py",
   "mimetype": "text/x-python",
   "name": "python",
   "nbconvert_exporter": "python",
   "pygments_lexer": "ipython3",
   "version": "3.11.3"
  }
 },
 "nbformat": 4,
 "nbformat_minor": 2
}
